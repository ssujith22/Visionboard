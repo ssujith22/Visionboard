{
 "cells": [
  {
   "cell_type": "code",
   "execution_count": 0,
   "metadata": {
    "application/vnd.databricks.v1+cell": {
     "cellMetadata": {
      "byteLimit": 2048000,
      "rowLimit": 10000
     },
     "inputWidgets": {},
     "nuid": "964ba5c8-9e21-4fff-a252-cfd368dda489",
     "showTitle": true,
     "tableResultSettingsMap": {},
     "title": "Read Sql DB"
    }
   },
   "outputs": [],
   "source": [
    "def jdbc_connect_azure_sql():\n",
    "  server=dbutils.secrets.get(scope='keyvalult_azure009', key='sql-server-vb-de') \n",
    "  db=dbutils.secrets.get(scope='keyvalult_azure009', key='sql-db-vb-de')\n",
    "  user='vb_admin'\n",
    "  pwd=dbutils.secrets.get(scope='keyvalult_azure009', key='vb-admin-sql-pw')\n",
    "\n",
    "  connectionProperties = {\n",
    "    \"user\" : user,\n",
    "    \"password\" : pwd,\n",
    "    \"driver\" : \"com.microsoft.sqlserver.jdbc.SQLServerDriver\"\n",
    "  }\n",
    "  jdbcPort = 1433\n",
    "  jdbcUrl= \"jdbc:sqlserver://{0}:{1};database={2}\".format(server, jdbcPort, db)\n",
    "  return jdbcUrl,connectionProperties"
   ]
  }
 ],
 "metadata": {
  "application/vnd.databricks.v1+notebook": {
   "dashboards": [],
   "environmentMetadata": {
    "base_environment": "",
    "client": "1"
   },
   "language": "python",
   "notebookMetadata": {
    "pythonIndentUnit": 2
   },
   "notebookName": "Common_functions",
   "widgets": {}
  },
  "language_info": {
   "name": "python"
  }
 },
 "nbformat": 4,
 "nbformat_minor": 0
}
