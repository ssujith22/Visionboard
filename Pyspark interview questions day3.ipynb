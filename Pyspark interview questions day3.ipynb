{
 "cells": [
  {
   "cell_type": "code",
   "execution_count": 0,
   "metadata": {
    "application/vnd.databricks.v1+cell": {
     "cellMetadata": {
      "byteLimit": 2048000,
      "rowLimit": 10000
     },
     "inputWidgets": {},
     "nuid": "8d86ef49-5e8b-4393-8210-c04905ab7c38",
     "showTitle": false,
     "tableResultSettingsMap": {},
     "title": ""
    }
   },
   "outputs": [
    {
     "output_type": "stream",
     "name": "stdout",
     "output_type": "stream",
     "text": [
      "+----------+------------+-----------+-----+-------------+\n|product_id|product_name|   category|price|quantity_sold|\n+----------+------------+-----------+-----+-------------+\n|         1|   Product A|Electronics|  500|          100|\n|         2|   Product B|   Clothing|   50|          200|\n|         3|   Product C|Electronics|  800|           50|\n|         4|   Product D|     Beauty|   30|          300|\n|         5|   Product E|   Clothing|   75|          150|\n+----------+------------+-----------+-----+-------------+\n\nTotal Revenue: 120250\n+----------+------------+-----------+-----+-------------+\n|product_id|product_name|   category|price|quantity_sold|\n+----------+------------+-----------+-----+-------------+\n|         4|   Product D|     Beauty|   30|          300|\n|         2|   Product B|   Clothing|   50|          200|\n|         5|   Product E|   Clothing|   75|          150|\n|         1|   Product A|Electronics|  500|          100|\n|         3|   Product C|Electronics|  800|           50|\n+----------+------------+-----------+-----+-------------+\n\n+-----------+---------+\n|   category|avg_price|\n+-----------+---------+\n|Electronics|    650.0|\n|   Clothing|     62.5|\n|     Beauty|     30.0|\n+-----------+---------+\n\nCategory with Highest Revenue: Electronics\n"
     ]
    }
   ],
   "source": [
    "#Qn . Calculate the total revenue generated from all sales\n",
    "\n",
    "from pyspark.sql import SparkSession\n",
    "from pyspark.sql.functions import col, sum, avg\n",
    "from pyspark.sql.window import Window\n",
    "\n",
    "spark = SparkSession.builder.appName(\"Sales\").getOrCreate()\n",
    "\n",
    "schema = [\"product_id\", \"product_name\", \"category\", \"price\", \"quantity_sold\"]\n",
    "data = [\n",
    "    (1, \"Product A\", \"Electronics\", 500, 100),\n",
    "    (2, \"Product B\", \"Clothing\", 50, 200),\n",
    "    (3, \"Product C\", \"Electronics\", 800, 50),\n",
    "    (4, \"Product D\", \"Beauty\", 30, 300),\n",
    "    (5, \"Product E\", \"Clothing\", 75, 150)\n",
    "]\n",
    "\n",
    "df = spark.createDataFrame(data, schema)\n",
    "df.show()\n",
    "\n",
    "# Question 1: Calculate total revenue\n",
    "total_revenue = df.withColumn(\"revenue\", col(\"price\") * col(\"quantity_sold\")).agg(sum(\"revenue\")).collect()[0][0]\n",
    "print(\"Total Revenue:\", total_revenue)\n",
    "\n",
    "# Question 2: Top 5 best-selling products\n",
    "top_products = df.orderBy(col(\"quantity_sold\").desc()).limit(5)\n",
    "top_products.show()\n",
    "\n",
    "# Question 3: Average price per category\n",
    "avg_price_per_category = df.groupBy(\"category\").agg(avg(\"price\").alias(\"avg_price\"))\n",
    "avg_price_per_category.show()\n",
    "\n",
    "# Question 4: Category with highest total revenue\n",
    "category_revenue = df.withColumn(\"revenue\", col(\"price\") * col(\"quantity_sold\")).groupBy(\"category\").agg(\n",
    "    sum(\"revenue\").alias(\"total_revenue\"))\n",
    "max_revenue_category = category_revenue.orderBy(col(\"total_revenue\").desc()).first()\n",
    "print(\"Category with Highest Revenue:\", max_revenue_category[\"category\"])\n"
   ]
  }
 ],
 "metadata": {
  "application/vnd.databricks.v1+notebook": {
   "dashboards": [],
   "environmentMetadata": null,
   "language": "python",
   "notebookMetadata": {
    "pythonIndentUnit": 4
   },
   "notebookName": "Pyspark interview questions day3",
   "widgets": {}
  }
 },
 "nbformat": 4,
 "nbformat_minor": 0
}
