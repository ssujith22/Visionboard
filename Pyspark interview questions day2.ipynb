{
 "cells": [
  {
   "cell_type": "code",
   "execution_count": 0,
   "metadata": {
    "application/vnd.databricks.v1+cell": {
     "cellMetadata": {
      "byteLimit": 2048000,
      "rowLimit": 10000
     },
     "inputWidgets": {},
     "nuid": "b786ee4b-6892-4442-b476-5dd6cc5cad1e",
     "showTitle": false,
     "tableResultSettingsMap": {},
     "title": ""
    }
   },
   "outputs": [
    {
     "output_type": "stream",
     "name": "stdout",
     "output_type": "stream",
     "text": [
      "+-----------+---------------------+\n|customer_id|total_purchase_amount|\n+-----------+---------------------+\n|          1|                  600|\n|          2|                  270|\n|          3|                   50|\n+-----------+---------------------+\n\nCustomer with highest purchase: 1\n"
     ]
    }
   ],
   "source": [
    "#Find the customer with the highest total purchase amount\n",
    "\n",
    "from pyspark.sql import SparkSession\n",
    "from pyspark.sql import functions as F\n",
    "spark = SparkSession.builder.appName(\"CustomerPurchaseAnalysis\").getOrCreate()\n",
    "data = [\n",
    "    (1, 100, \"2023-01-15\"),\n",
    "    (2, 150, \"2023-02-20\"),\n",
    "    (1, 200, \"2023-03-10\"),\n",
    "    (3, 50, \"2023-04-05\"),\n",
    "    (2, 120, \"2023-05-15\"),\n",
    "    (1, 300, \"2023-06-25\")\n",
    "]\n",
    "columns = [\"customer_id\", \"purchase_amount\", \"purchase_date\"]\n",
    "df = spark.createDataFrame(data, columns)\n",
    "total_purchase_per_customer = df.groupBy(\"customer_id\").agg(F.sum(\"purchase_amount\").alias(\"total_purchase_amount\"))\n",
    "customer_with_highest_purchase = total_purchase_per_customer.orderBy(F.desc(\"total_purchase_amount\")).first()\n",
    "#df.show()\n",
    "total_purchase_per_customer.show()\n",
    "print(\"Customer with highest purchase:\", customer_with_highest_purchase[\"customer_id\"])\n",
    "\n"
   ]
  }
 ],
 "metadata": {
  "application/vnd.databricks.v1+notebook": {
   "dashboards": [],
   "environmentMetadata": {
    "base_environment": "",
    "client": "1"
   },
   "language": "python",
   "notebookMetadata": {
    "pythonIndentUnit": 4
   },
   "notebookName": "Pyspark interview questions day2",
   "widgets": {}
  }
 },
 "nbformat": 4,
 "nbformat_minor": 0
}
